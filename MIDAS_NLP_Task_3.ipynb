{
  "nbformat": 4,
  "nbformat_minor": 0,
  "metadata": {
    "colab": {
      "name": "MIDAS NLP Task 3.ipynb",
      "provenance": [],
      "collapsed_sections": [],
      "include_colab_link": true
    },
    "kernelspec": {
      "name": "python3",
      "display_name": "Python 3"
    },
    "language_info": {
      "name": "python"
    },
    "accelerator": "GPU"
  },
  "cells": [
    {
      "cell_type": "markdown",
      "metadata": {
        "id": "view-in-github",
        "colab_type": "text"
      },
      "source": [
        "<a href=\"https://colab.research.google.com/github/TaherLilywala/MIDAS-Task-NLP/blob/main/MIDAS_NLP_Task_3.ipynb\" target=\"_parent\"><img src=\"https://colab.research.google.com/assets/colab-badge.svg\" alt=\"Open In Colab\"/></a>"
      ]
    },
    {
      "cell_type": "markdown",
      "metadata": {
        "id": "9FK3Sp7xIvMZ"
      },
      "source": [
        "##Loading Data\n",
        "\n",
        "Loading the Data and having a look at the basic structure"
      ]
    },
    {
      "cell_type": "code",
      "metadata": {
        "id": "ub94NlVU1Y66",
        "colab": {
          "base_uri": "https://localhost:8080/"
        },
        "outputId": "be6b333a-9423-42e7-c0c8-d18b2c36c7bb"
      },
      "source": [
        "# Importing relevant libraries\n",
        "\n",
        "import pandas as pd\n",
        "import numpy as np\n",
        "import tensorflow as tf\n",
        "import os\n",
        "import math\n",
        "import cv2\n",
        "\n",
        "import pickle\n",
        "\n",
        "import matplotlib.pyplot as plt\n",
        "from io import StringIO\n",
        "import pandas as pd\n",
        "from collections import Counter\n",
        "import string\n",
        "import os\n",
        "import gensim\n",
        "from spacy.matcher import PhraseMatcher\n",
        "from nltk.tokenize import word_tokenize\n",
        "from nltk.corpus import stopwords\n",
        "import nltk\n",
        "from textblob import TextBlob, Word\n",
        "from sklearn.feature_extraction.text import TfidfVectorizer\n",
        "from sklearn.model_selection import train_test_split\n",
        "from wordcloud import WordCloud,STOPWORDS\n",
        "import matplotlib.pyplot as plt\n",
        "nltk.download('stopwords')\n",
        "nltk.download('wordnet')\n",
        "nltk.download('punkt')"
      ],
      "execution_count": 646,
      "outputs": [
        {
          "output_type": "stream",
          "text": [
            "[nltk_data] Downloading package stopwords to /root/nltk_data...\n",
            "[nltk_data]   Package stopwords is already up-to-date!\n",
            "[nltk_data] Downloading package wordnet to /root/nltk_data...\n",
            "[nltk_data]   Package wordnet is already up-to-date!\n",
            "[nltk_data] Downloading package punkt to /root/nltk_data...\n",
            "[nltk_data]   Package punkt is already up-to-date!\n"
          ],
          "name": "stdout"
        },
        {
          "output_type": "execute_result",
          "data": {
            "text/plain": [
              "True"
            ]
          },
          "metadata": {
            "tags": []
          },
          "execution_count": 646
        }
      ]
    },
    {
      "cell_type": "code",
      "metadata": {
        "colab": {
          "base_uri": "https://localhost:8080/"
        },
        "id": "dxR0aEYdI1jB",
        "outputId": "ed0163c4-3c8c-4330-d06f-27abd373258f"
      },
      "source": [
        "#Loading data onto a DataFrame\n",
        "\n",
        "from google.colab import drive\n",
        "drive.mount('/content/drive')\n",
        "df=pd.read_csv('/content/drive/My Drive/Miscellaneous DL/MIDAS Task 3/flipkart-data.csv')"
      ],
      "execution_count": 647,
      "outputs": [
        {
          "output_type": "stream",
          "text": [
            "Drive already mounted at /content/drive; to attempt to forcibly remount, call drive.mount(\"/content/drive\", force_remount=True).\n"
          ],
          "name": "stdout"
        }
      ]
    },
    {
      "cell_type": "code",
      "metadata": {
        "colab": {
          "base_uri": "https://localhost:8080/",
          "height": 0
        },
        "id": "Hwmq41VuLogM",
        "outputId": "e5227460-4478-4739-f5a3-2afd703e4e21"
      },
      "source": [
        "df.head(5)"
      ],
      "execution_count": 648,
      "outputs": [
        {
          "output_type": "execute_result",
          "data": {
            "text/html": [
              "<div>\n",
              "<style scoped>\n",
              "    .dataframe tbody tr th:only-of-type {\n",
              "        vertical-align: middle;\n",
              "    }\n",
              "\n",
              "    .dataframe tbody tr th {\n",
              "        vertical-align: top;\n",
              "    }\n",
              "\n",
              "    .dataframe thead th {\n",
              "        text-align: right;\n",
              "    }\n",
              "</style>\n",
              "<table border=\"1\" class=\"dataframe\">\n",
              "  <thead>\n",
              "    <tr style=\"text-align: right;\">\n",
              "      <th></th>\n",
              "      <th>uniq_id</th>\n",
              "      <th>crawl_timestamp</th>\n",
              "      <th>product_url</th>\n",
              "      <th>product_name</th>\n",
              "      <th>product_category_tree</th>\n",
              "      <th>pid</th>\n",
              "      <th>retail_price</th>\n",
              "      <th>discounted_price</th>\n",
              "      <th>image</th>\n",
              "      <th>is_FK_Advantage_product</th>\n",
              "      <th>description</th>\n",
              "      <th>product_rating</th>\n",
              "      <th>overall_rating</th>\n",
              "      <th>brand</th>\n",
              "      <th>product_specifications</th>\n",
              "    </tr>\n",
              "  </thead>\n",
              "  <tbody>\n",
              "    <tr>\n",
              "      <th>0</th>\n",
              "      <td>c2d766ca982eca8304150849735ffef9</td>\n",
              "      <td>2016-03-25 22:59:23 +0000</td>\n",
              "      <td>http://www.flipkart.com/alisha-solid-women-s-c...</td>\n",
              "      <td>Alisha Solid Women's Cycling Shorts</td>\n",
              "      <td>[\"Clothing &gt;&gt; Women's Clothing &gt;&gt; Lingerie, Sl...</td>\n",
              "      <td>SRTEH2FF9KEDEFGF</td>\n",
              "      <td>999.0</td>\n",
              "      <td>379.0</td>\n",
              "      <td>[\"http://img5a.flixcart.com/image/short/u/4/a/...</td>\n",
              "      <td>False</td>\n",
              "      <td>Key Features of Alisha Solid Women's Cycling S...</td>\n",
              "      <td>No rating available</td>\n",
              "      <td>No rating available</td>\n",
              "      <td>Alisha</td>\n",
              "      <td>{\"product_specification\"=&gt;[{\"key\"=&gt;\"Number of ...</td>\n",
              "    </tr>\n",
              "    <tr>\n",
              "      <th>1</th>\n",
              "      <td>7f7036a6d550aaa89d34c77bd39a5e48</td>\n",
              "      <td>2016-03-25 22:59:23 +0000</td>\n",
              "      <td>http://www.flipkart.com/fabhomedecor-fabric-do...</td>\n",
              "      <td>FabHomeDecor Fabric Double Sofa Bed</td>\n",
              "      <td>[\"Furniture &gt;&gt; Living Room Furniture &gt;&gt; Sofa B...</td>\n",
              "      <td>SBEEH3QGU7MFYJFY</td>\n",
              "      <td>32157.0</td>\n",
              "      <td>22646.0</td>\n",
              "      <td>[\"http://img6a.flixcart.com/image/sofa-bed/j/f...</td>\n",
              "      <td>False</td>\n",
              "      <td>FabHomeDecor Fabric Double Sofa Bed (Finish Co...</td>\n",
              "      <td>No rating available</td>\n",
              "      <td>No rating available</td>\n",
              "      <td>FabHomeDecor</td>\n",
              "      <td>{\"product_specification\"=&gt;[{\"key\"=&gt;\"Installati...</td>\n",
              "    </tr>\n",
              "    <tr>\n",
              "      <th>2</th>\n",
              "      <td>f449ec65dcbc041b6ae5e6a32717d01b</td>\n",
              "      <td>2016-03-25 22:59:23 +0000</td>\n",
              "      <td>http://www.flipkart.com/aw-bellies/p/itmeh4grg...</td>\n",
              "      <td>AW Bellies</td>\n",
              "      <td>[\"Footwear &gt;&gt; Women's Footwear &gt;&gt; Ballerinas &gt;...</td>\n",
              "      <td>SHOEH4GRSUBJGZXE</td>\n",
              "      <td>999.0</td>\n",
              "      <td>499.0</td>\n",
              "      <td>[\"http://img5a.flixcart.com/image/shoe/7/z/z/r...</td>\n",
              "      <td>False</td>\n",
              "      <td>Key Features of AW Bellies Sandals Wedges Heel...</td>\n",
              "      <td>No rating available</td>\n",
              "      <td>No rating available</td>\n",
              "      <td>AW</td>\n",
              "      <td>{\"product_specification\"=&gt;[{\"key\"=&gt;\"Ideal For\"...</td>\n",
              "    </tr>\n",
              "    <tr>\n",
              "      <th>3</th>\n",
              "      <td>0973b37acd0c664e3de26e97e5571454</td>\n",
              "      <td>2016-03-25 22:59:23 +0000</td>\n",
              "      <td>http://www.flipkart.com/alisha-solid-women-s-c...</td>\n",
              "      <td>Alisha Solid Women's Cycling Shorts</td>\n",
              "      <td>[\"Clothing &gt;&gt; Women's Clothing &gt;&gt; Lingerie, Sl...</td>\n",
              "      <td>SRTEH2F6HUZMQ6SJ</td>\n",
              "      <td>699.0</td>\n",
              "      <td>267.0</td>\n",
              "      <td>[\"http://img5a.flixcart.com/image/short/6/2/h/...</td>\n",
              "      <td>False</td>\n",
              "      <td>Key Features of Alisha Solid Women's Cycling S...</td>\n",
              "      <td>No rating available</td>\n",
              "      <td>No rating available</td>\n",
              "      <td>Alisha</td>\n",
              "      <td>{\"product_specification\"=&gt;[{\"key\"=&gt;\"Number of ...</td>\n",
              "    </tr>\n",
              "    <tr>\n",
              "      <th>4</th>\n",
              "      <td>bc940ea42ee6bef5ac7cea3fb5cfbee7</td>\n",
              "      <td>2016-03-25 22:59:23 +0000</td>\n",
              "      <td>http://www.flipkart.com/sicons-all-purpose-arn...</td>\n",
              "      <td>Sicons All Purpose Arnica Dog Shampoo</td>\n",
              "      <td>[\"Pet Supplies &gt;&gt; Grooming &gt;&gt; Skin &amp; Coat Care...</td>\n",
              "      <td>PSOEH3ZYDMSYARJ5</td>\n",
              "      <td>220.0</td>\n",
              "      <td>210.0</td>\n",
              "      <td>[\"http://img5a.flixcart.com/image/pet-shampoo/...</td>\n",
              "      <td>False</td>\n",
              "      <td>Specifications of Sicons All Purpose Arnica Do...</td>\n",
              "      <td>No rating available</td>\n",
              "      <td>No rating available</td>\n",
              "      <td>Sicons</td>\n",
              "      <td>{\"product_specification\"=&gt;[{\"key\"=&gt;\"Pet Type\",...</td>\n",
              "    </tr>\n",
              "  </tbody>\n",
              "</table>\n",
              "</div>"
            ],
            "text/plain": [
              "                            uniq_id  ...                             product_specifications\n",
              "0  c2d766ca982eca8304150849735ffef9  ...  {\"product_specification\"=>[{\"key\"=>\"Number of ...\n",
              "1  7f7036a6d550aaa89d34c77bd39a5e48  ...  {\"product_specification\"=>[{\"key\"=>\"Installati...\n",
              "2  f449ec65dcbc041b6ae5e6a32717d01b  ...  {\"product_specification\"=>[{\"key\"=>\"Ideal For\"...\n",
              "3  0973b37acd0c664e3de26e97e5571454  ...  {\"product_specification\"=>[{\"key\"=>\"Number of ...\n",
              "4  bc940ea42ee6bef5ac7cea3fb5cfbee7  ...  {\"product_specification\"=>[{\"key\"=>\"Pet Type\",...\n",
              "\n",
              "[5 rows x 15 columns]"
            ]
          },
          "metadata": {
            "tags": []
          },
          "execution_count": 648
        }
      ]
    },
    {
      "cell_type": "code",
      "metadata": {
        "colab": {
          "base_uri": "https://localhost:8080/"
        },
        "id": "qJWQr8y0MPqd",
        "outputId": "eb901a82-3ed2-4848-a20b-83477d4609a9"
      },
      "source": [
        "df.shape"
      ],
      "execution_count": 649,
      "outputs": [
        {
          "output_type": "execute_result",
          "data": {
            "text/plain": [
              "(20000, 15)"
            ]
          },
          "metadata": {
            "tags": []
          },
          "execution_count": 649
        }
      ]
    },
    {
      "cell_type": "markdown",
      "metadata": {
        "id": "uzZMPMZ0QQ0n"
      },
      "source": [
        "##Cleaning Data\n",
        "\n",
        "Standard NLP Text Pre-Processing, to make the input data more workable."
      ]
    },
    {
      "cell_type": "code",
      "metadata": {
        "id": "t9bM7M5IvZn4"
      },
      "source": [
        "def clean_data(hd_df, col_name):\n",
        "\n",
        "    # Converting to lower case\n",
        "    hd_df[col_name] = hd_df[col_name].apply(lambda x: \" \".join(x.lower() for x in x.split()))\n",
        "\n",
        "    # Removing tags\n",
        "    hd_df[col_name] = hd_df[col_name].str.replace('<.*?>','')\n",
        "\n",
        "    # Removing possible mentions or urls\n",
        "    hd_df[col_name] = hd_df[col_name].str.replace('@\\w+','')\n",
        "    hd_df[col_name] = hd_df[col_name].str.replace('http.?://[^\\s]+[\\s]?','')\n",
        "\n",
        "    # Removing punctuation and symbols\n",
        "    hd_df[col_name] = hd_df[col_name].str.replace('[^\\w\\s]', '')\n",
        "    hd_df[col_name] = hd_df[col_name].apply(lambda x: \" \".join(y for y in x.split() if y not in string.punctuation))\n",
        "\n",
        "    # Removing non alphabetical character\n",
        "    hd_df[col_name] = hd_df[col_name].apply(lambda x: \" \".join(y for y in x.split() if y.isalpha()))\n",
        "\n",
        "    # Removing characters non longer than 1\n",
        "    hd_df[col_name] = hd_df[col_name].apply(lambda x: \" \".join(y for y in x.split() if len(y) > 1))\n",
        "\n",
        "    # Removing stopwords\n",
        "    sw = stopwords.words('english')\n",
        "    hd_df[col_name] = hd_df[col_name].apply(lambda x: \" \".join(y for y in x.split() if y not in sw))\n",
        "\n",
        "    # Removing digits\n",
        "    hd_df[col_name] = hd_df[col_name].apply(lambda x: \" \".join(y for y in x.split() if not y.isdigit()))\n",
        "\n",
        "    # Removing multiple spaces\n",
        "    hd_df[col_name] = hd_df[col_name].str.replace(' +',' ')\n",
        "\n",
        "    # Lemmatization \n",
        "    hd_df[col_name] = hd_df[col_name].apply(lambda x: \" \".join([Word(w).lemmatize() for w in x.split()]))\n",
        "\n",
        "    return hd_df"
      ],
      "execution_count": 650,
      "outputs": []
    },
    {
      "cell_type": "code",
      "metadata": {
        "colab": {
          "base_uri": "https://localhost:8080/",
          "height": 0
        },
        "id": "zq9F6b6hiDIo",
        "outputId": "597d9904-697b-436b-a212-7bf1f8de8cde"
      },
      "source": [
        "# only consider data where description is not null\n",
        "df_new = df[df['description'].notnull()]\n",
        "df_new = clean_data(df_new,'description')\n",
        "#df_new = clean_data(df_new,'product_category_tree')\n",
        "df_new.head()"
      ],
      "execution_count": 651,
      "outputs": [
        {
          "output_type": "stream",
          "text": [
            "/usr/local/lib/python3.7/dist-packages/ipykernel_launcher.py:4: SettingWithCopyWarning: \n",
            "A value is trying to be set on a copy of a slice from a DataFrame.\n",
            "Try using .loc[row_indexer,col_indexer] = value instead\n",
            "\n",
            "See the caveats in the documentation: https://pandas.pydata.org/pandas-docs/stable/user_guide/indexing.html#returning-a-view-versus-a-copy\n",
            "  after removing the cwd from sys.path.\n",
            "/usr/local/lib/python3.7/dist-packages/ipykernel_launcher.py:7: SettingWithCopyWarning: \n",
            "A value is trying to be set on a copy of a slice from a DataFrame.\n",
            "Try using .loc[row_indexer,col_indexer] = value instead\n",
            "\n",
            "See the caveats in the documentation: https://pandas.pydata.org/pandas-docs/stable/user_guide/indexing.html#returning-a-view-versus-a-copy\n",
            "  import sys\n",
            "/usr/local/lib/python3.7/dist-packages/ipykernel_launcher.py:10: SettingWithCopyWarning: \n",
            "A value is trying to be set on a copy of a slice from a DataFrame.\n",
            "Try using .loc[row_indexer,col_indexer] = value instead\n",
            "\n",
            "See the caveats in the documentation: https://pandas.pydata.org/pandas-docs/stable/user_guide/indexing.html#returning-a-view-versus-a-copy\n",
            "  # Remove the CWD from sys.path while we load stuff.\n",
            "/usr/local/lib/python3.7/dist-packages/ipykernel_launcher.py:11: SettingWithCopyWarning: \n",
            "A value is trying to be set on a copy of a slice from a DataFrame.\n",
            "Try using .loc[row_indexer,col_indexer] = value instead\n",
            "\n",
            "See the caveats in the documentation: https://pandas.pydata.org/pandas-docs/stable/user_guide/indexing.html#returning-a-view-versus-a-copy\n",
            "  # This is added back by InteractiveShellApp.init_path()\n",
            "/usr/local/lib/python3.7/dist-packages/ipykernel_launcher.py:14: SettingWithCopyWarning: \n",
            "A value is trying to be set on a copy of a slice from a DataFrame.\n",
            "Try using .loc[row_indexer,col_indexer] = value instead\n",
            "\n",
            "See the caveats in the documentation: https://pandas.pydata.org/pandas-docs/stable/user_guide/indexing.html#returning-a-view-versus-a-copy\n",
            "  \n",
            "/usr/local/lib/python3.7/dist-packages/ipykernel_launcher.py:15: SettingWithCopyWarning: \n",
            "A value is trying to be set on a copy of a slice from a DataFrame.\n",
            "Try using .loc[row_indexer,col_indexer] = value instead\n",
            "\n",
            "See the caveats in the documentation: https://pandas.pydata.org/pandas-docs/stable/user_guide/indexing.html#returning-a-view-versus-a-copy\n",
            "  from ipykernel import kernelapp as app\n",
            "/usr/local/lib/python3.7/dist-packages/ipykernel_launcher.py:18: SettingWithCopyWarning: \n",
            "A value is trying to be set on a copy of a slice from a DataFrame.\n",
            "Try using .loc[row_indexer,col_indexer] = value instead\n",
            "\n",
            "See the caveats in the documentation: https://pandas.pydata.org/pandas-docs/stable/user_guide/indexing.html#returning-a-view-versus-a-copy\n",
            "/usr/local/lib/python3.7/dist-packages/ipykernel_launcher.py:21: SettingWithCopyWarning: \n",
            "A value is trying to be set on a copy of a slice from a DataFrame.\n",
            "Try using .loc[row_indexer,col_indexer] = value instead\n",
            "\n",
            "See the caveats in the documentation: https://pandas.pydata.org/pandas-docs/stable/user_guide/indexing.html#returning-a-view-versus-a-copy\n",
            "/usr/local/lib/python3.7/dist-packages/ipykernel_launcher.py:25: SettingWithCopyWarning: \n",
            "A value is trying to be set on a copy of a slice from a DataFrame.\n",
            "Try using .loc[row_indexer,col_indexer] = value instead\n",
            "\n",
            "See the caveats in the documentation: https://pandas.pydata.org/pandas-docs/stable/user_guide/indexing.html#returning-a-view-versus-a-copy\n",
            "/usr/local/lib/python3.7/dist-packages/ipykernel_launcher.py:28: SettingWithCopyWarning: \n",
            "A value is trying to be set on a copy of a slice from a DataFrame.\n",
            "Try using .loc[row_indexer,col_indexer] = value instead\n",
            "\n",
            "See the caveats in the documentation: https://pandas.pydata.org/pandas-docs/stable/user_guide/indexing.html#returning-a-view-versus-a-copy\n",
            "/usr/local/lib/python3.7/dist-packages/ipykernel_launcher.py:31: SettingWithCopyWarning: \n",
            "A value is trying to be set on a copy of a slice from a DataFrame.\n",
            "Try using .loc[row_indexer,col_indexer] = value instead\n",
            "\n",
            "See the caveats in the documentation: https://pandas.pydata.org/pandas-docs/stable/user_guide/indexing.html#returning-a-view-versus-a-copy\n",
            "/usr/local/lib/python3.7/dist-packages/ipykernel_launcher.py:34: SettingWithCopyWarning: \n",
            "A value is trying to be set on a copy of a slice from a DataFrame.\n",
            "Try using .loc[row_indexer,col_indexer] = value instead\n",
            "\n",
            "See the caveats in the documentation: https://pandas.pydata.org/pandas-docs/stable/user_guide/indexing.html#returning-a-view-versus-a-copy\n"
          ],
          "name": "stderr"
        },
        {
          "output_type": "execute_result",
          "data": {
            "text/html": [
              "<div>\n",
              "<style scoped>\n",
              "    .dataframe tbody tr th:only-of-type {\n",
              "        vertical-align: middle;\n",
              "    }\n",
              "\n",
              "    .dataframe tbody tr th {\n",
              "        vertical-align: top;\n",
              "    }\n",
              "\n",
              "    .dataframe thead th {\n",
              "        text-align: right;\n",
              "    }\n",
              "</style>\n",
              "<table border=\"1\" class=\"dataframe\">\n",
              "  <thead>\n",
              "    <tr style=\"text-align: right;\">\n",
              "      <th></th>\n",
              "      <th>uniq_id</th>\n",
              "      <th>crawl_timestamp</th>\n",
              "      <th>product_url</th>\n",
              "      <th>product_name</th>\n",
              "      <th>product_category_tree</th>\n",
              "      <th>pid</th>\n",
              "      <th>retail_price</th>\n",
              "      <th>discounted_price</th>\n",
              "      <th>image</th>\n",
              "      <th>is_FK_Advantage_product</th>\n",
              "      <th>description</th>\n",
              "      <th>product_rating</th>\n",
              "      <th>overall_rating</th>\n",
              "      <th>brand</th>\n",
              "      <th>product_specifications</th>\n",
              "    </tr>\n",
              "  </thead>\n",
              "  <tbody>\n",
              "    <tr>\n",
              "      <th>0</th>\n",
              "      <td>c2d766ca982eca8304150849735ffef9</td>\n",
              "      <td>2016-03-25 22:59:23 +0000</td>\n",
              "      <td>http://www.flipkart.com/alisha-solid-women-s-c...</td>\n",
              "      <td>Alisha Solid Women's Cycling Shorts</td>\n",
              "      <td>[\"Clothing &gt;&gt; Women's Clothing &gt;&gt; Lingerie, Sl...</td>\n",
              "      <td>SRTEH2FF9KEDEFGF</td>\n",
              "      <td>999.0</td>\n",
              "      <td>379.0</td>\n",
              "      <td>[\"http://img5a.flixcart.com/image/short/u/4/a/...</td>\n",
              "      <td>False</td>\n",
              "      <td>key feature alisha solid woman cycling short c...</td>\n",
              "      <td>No rating available</td>\n",
              "      <td>No rating available</td>\n",
              "      <td>Alisha</td>\n",
              "      <td>{\"product_specification\"=&gt;[{\"key\"=&gt;\"Number of ...</td>\n",
              "    </tr>\n",
              "    <tr>\n",
              "      <th>1</th>\n",
              "      <td>7f7036a6d550aaa89d34c77bd39a5e48</td>\n",
              "      <td>2016-03-25 22:59:23 +0000</td>\n",
              "      <td>http://www.flipkart.com/fabhomedecor-fabric-do...</td>\n",
              "      <td>FabHomeDecor Fabric Double Sofa Bed</td>\n",
              "      <td>[\"Furniture &gt;&gt; Living Room Furniture &gt;&gt; Sofa B...</td>\n",
              "      <td>SBEEH3QGU7MFYJFY</td>\n",
              "      <td>32157.0</td>\n",
              "      <td>22646.0</td>\n",
              "      <td>[\"http://img6a.flixcart.com/image/sofa-bed/j/f...</td>\n",
              "      <td>False</td>\n",
              "      <td>fabhomedecor fabric double sofa bed finish col...</td>\n",
              "      <td>No rating available</td>\n",
              "      <td>No rating available</td>\n",
              "      <td>FabHomeDecor</td>\n",
              "      <td>{\"product_specification\"=&gt;[{\"key\"=&gt;\"Installati...</td>\n",
              "    </tr>\n",
              "    <tr>\n",
              "      <th>2</th>\n",
              "      <td>f449ec65dcbc041b6ae5e6a32717d01b</td>\n",
              "      <td>2016-03-25 22:59:23 +0000</td>\n",
              "      <td>http://www.flipkart.com/aw-bellies/p/itmeh4grg...</td>\n",
              "      <td>AW Bellies</td>\n",
              "      <td>[\"Footwear &gt;&gt; Women's Footwear &gt;&gt; Ballerinas &gt;...</td>\n",
              "      <td>SHOEH4GRSUBJGZXE</td>\n",
              "      <td>999.0</td>\n",
              "      <td>499.0</td>\n",
              "      <td>[\"http://img5a.flixcart.com/image/shoe/7/z/z/r...</td>\n",
              "      <td>False</td>\n",
              "      <td>key feature aw belly sandal wedge heel casuals...</td>\n",
              "      <td>No rating available</td>\n",
              "      <td>No rating available</td>\n",
              "      <td>AW</td>\n",
              "      <td>{\"product_specification\"=&gt;[{\"key\"=&gt;\"Ideal For\"...</td>\n",
              "    </tr>\n",
              "    <tr>\n",
              "      <th>3</th>\n",
              "      <td>0973b37acd0c664e3de26e97e5571454</td>\n",
              "      <td>2016-03-25 22:59:23 +0000</td>\n",
              "      <td>http://www.flipkart.com/alisha-solid-women-s-c...</td>\n",
              "      <td>Alisha Solid Women's Cycling Shorts</td>\n",
              "      <td>[\"Clothing &gt;&gt; Women's Clothing &gt;&gt; Lingerie, Sl...</td>\n",
              "      <td>SRTEH2F6HUZMQ6SJ</td>\n",
              "      <td>699.0</td>\n",
              "      <td>267.0</td>\n",
              "      <td>[\"http://img5a.flixcart.com/image/short/6/2/h/...</td>\n",
              "      <td>False</td>\n",
              "      <td>key feature alisha solid woman cycling short c...</td>\n",
              "      <td>No rating available</td>\n",
              "      <td>No rating available</td>\n",
              "      <td>Alisha</td>\n",
              "      <td>{\"product_specification\"=&gt;[{\"key\"=&gt;\"Number of ...</td>\n",
              "    </tr>\n",
              "    <tr>\n",
              "      <th>4</th>\n",
              "      <td>bc940ea42ee6bef5ac7cea3fb5cfbee7</td>\n",
              "      <td>2016-03-25 22:59:23 +0000</td>\n",
              "      <td>http://www.flipkart.com/sicons-all-purpose-arn...</td>\n",
              "      <td>Sicons All Purpose Arnica Dog Shampoo</td>\n",
              "      <td>[\"Pet Supplies &gt;&gt; Grooming &gt;&gt; Skin &amp; Coat Care...</td>\n",
              "      <td>PSOEH3ZYDMSYARJ5</td>\n",
              "      <td>220.0</td>\n",
              "      <td>210.0</td>\n",
              "      <td>[\"http://img5a.flixcart.com/image/pet-shampoo/...</td>\n",
              "      <td>False</td>\n",
              "      <td>specification sicons purpose arnica dog shampo...</td>\n",
              "      <td>No rating available</td>\n",
              "      <td>No rating available</td>\n",
              "      <td>Sicons</td>\n",
              "      <td>{\"product_specification\"=&gt;[{\"key\"=&gt;\"Pet Type\",...</td>\n",
              "    </tr>\n",
              "  </tbody>\n",
              "</table>\n",
              "</div>"
            ],
            "text/plain": [
              "                            uniq_id  ...                             product_specifications\n",
              "0  c2d766ca982eca8304150849735ffef9  ...  {\"product_specification\"=>[{\"key\"=>\"Number of ...\n",
              "1  7f7036a6d550aaa89d34c77bd39a5e48  ...  {\"product_specification\"=>[{\"key\"=>\"Installati...\n",
              "2  f449ec65dcbc041b6ae5e6a32717d01b  ...  {\"product_specification\"=>[{\"key\"=>\"Ideal For\"...\n",
              "3  0973b37acd0c664e3de26e97e5571454  ...  {\"product_specification\"=>[{\"key\"=>\"Number of ...\n",
              "4  bc940ea42ee6bef5ac7cea3fb5cfbee7  ...  {\"product_specification\"=>[{\"key\"=>\"Pet Type\",...\n",
              "\n",
              "[5 rows x 15 columns]"
            ]
          },
          "metadata": {
            "tags": []
          },
          "execution_count": 651
        }
      ]
    },
    {
      "cell_type": "code",
      "metadata": {
        "colab": {
          "base_uri": "https://localhost:8080/",
          "height": 0
        },
        "id": "3tb2Wdm2jtQE",
        "outputId": "ea978b00-16d6-4f61-f8b1-07a35f64bf42"
      },
      "source": [
        "#function to split text into word\n",
        "tokens = word_tokenize(df_new.description.str.cat(sep=' '))\n",
        "vocabulary = set(tokens)\n",
        "print(len(vocabulary))\n",
        "frequency_dist = nltk.FreqDist(tokens)\n",
        "# sorted(frequency_dist,key=frequency_dist.__getitem__, reverse=True)\n",
        "\n",
        "from wordcloud import WordCloud\n",
        "import matplotlib.pyplot as plt\n",
        "wordcloud = WordCloud().generate_from_frequencies(frequency_dist)\n",
        "plt.imshow(wordcloud)\n",
        "plt.axis(\"off\")\n",
        "plt.show()\n",
        "\n",
        "# also add stuff[maybe a simple print()] to show the state of words before and after cleaning"
      ],
      "execution_count": 652,
      "outputs": [
        {
          "output_type": "stream",
          "text": [
            "21330\n"
          ],
          "name": "stdout"
        },
        {
          "output_type": "display_data",
          "data": {
            "image/png": "[encoded data removed]",
            "text/plain": [
              "<Figure size 432x288 with 1 Axes>"
            ]
          },
          "metadata": {
            "tags": [],
            "needs_background": "light"
          }
        }
      ]
    },
    {
      "cell_type": "code",
      "metadata": {
        "id": "Gxk5nwH6vmJg"
      },
      "source": [
        "# Tokenizing inputs\n",
        "desc = list()\n",
        "lines  = df_new.description.values.tolist()\n",
        "\n",
        "for i,line in enumerate(lines):\n",
        "  tokens = word_tokenize(line)\n",
        "  tokens = [w.lower() for w in tokens]\n",
        "  table = str.maketrans('','',string.punctuation)\n",
        "  stripped = [w.translate(table) for w in tokens]\n",
        "  words = [word for word in stripped  if word.isalpha()]\n",
        "  desc.append(words)"
      ],
      "execution_count": 653,
      "outputs": []
    },
    {
      "cell_type": "code",
      "metadata": {
        "colab": {
          "base_uri": "https://localhost:8080/"
        },
        "id": "sgpSTA1itg4h",
        "outputId": "8f806bd1-2012-493d-b3fa-3f3f60e0664c"
      },
      "source": [
        "print(len(desc))\n",
        "print(desc[0])\n",
        "print(desc[1])"
      ],
      "execution_count": 654,
      "outputs": [
        {
          "output_type": "stream",
          "text": [
            "19998\n",
            "['key', 'feature', 'alisha', 'solid', 'woman', 'cycling', 'short', 'cotton', 'lycra', 'navy', 'red', 'navyspecifications', 'alisha', 'solid', 'woman', 'cycling', 'short', 'short', 'detail', 'number', 'content', 'sale', 'package', 'pack', 'fabric', 'cotton', 'lycra', 'type', 'cycling', 'short', 'general', 'detail', 'pattern', 'solid', 'ideal', 'woman', 'fabric', 'care', 'gentle', 'machine', 'wash', 'lukewarm', 'water', 'bleach', 'additional', 'detail', 'style', 'code', 'box', 'short']\n",
            "['fabhomedecor', 'fabric', 'double', 'sofa', 'bed', 'finish', 'color', 'leatherette', 'black', 'mechanism', 'type', 'pull', 'price', 'r', 'fine', 'deep', 'seating', 'experience', 'save', 'space', 'new', 'click', 'clack', 'sofa', 'bed', 'easy', 'fold', 'vice', 'versa', 'simple', 'click', 'clack', 'mechanism', 'chrome', 'leg', 'mango', 'wood', 'frame', 'long', 'term', 'durability', 'double', 'cushioned', 'sofa', 'bed', 'provide', 'extra', 'softness', 'make', 'fine', 'seating', 'experience', 'double', 'bed', 'easily', 'sleep', 'twospecifications', 'fabhomedecor', 'fabric', 'double', 'sofa', 'bed', 'finish', 'color', 'leatherette', 'black', 'mechanism', 'type', 'pull', 'installation', 'demo', 'installation', 'demo', 'detail', 'installation', 'demo', 'product', 'done', 'free', 'cost', 'part', 'purchase', 'service', 'partner', 'visit', 'location', 'within', 'business', 'hour', 'delivery', 'product', 'box', 'sofa', 'bed', 'general', 'brand', 'fabhomedecor', 'mattress', 'included', 'delivery', 'condition', 'knock', 'storage', 'included', 'mechanism', 'type', 'pull', 'type', 'sofa', 'bed', 'style', 'contemporary', 'modern', 'filling', 'material', 'microfiber', 'seating', 'capacity', 'seater', 'upholstery', 'type', 'na', 'upholstery', 'included', 'bed', 'size', 'double', 'shape', 'square', 'suitable', 'living', 'room', 'model', 'number', 'care', 'instruction', 'avoid', 'outdoor', 'use', 'exposure', 'water', 'prolonged', 'moisture', 'avoid', 'exposure', 'direct', 'heat', 'sunlight', 'cause', 'sofa', 'colour', 'fade', 'keep', 'sharp', 'object', 'away', 'sofa', 'little', 'tear', 'fabric', 'cover', 'may', 'hard', 'repair', 'vacuum', 'sofa', 'periodically', 'soft', 'bristled', 'bruview', 'avoid', 'outdoor', 'use', 'exposure', 'water', 'prolonged', 'moisture', 'avoid', 'exposure', 'direct', 'heat', 'sunlight', 'cause', 'sofa', 'colour', 'fade', 'keep', 'sharp', 'object', 'away', 'sofa', 'little', 'tear', 'fabric', 'cover', 'may', 'hard', 'repair', 'vacuum', 'sofa', 'periodically', 'soft', 'bristled', 'brush', 'attachment', 'lightly', 'brush', 'keep', 'general', 'dirt', 'dust', 'sofa', 'prevent', 'embedding', 'fibre', 'try', 'avoid', 'food', 'drink', 'spillage', 'kind', 'spill', 'occur', 'leave', 'unattended', 'case', 'stain', 'waterfree', 'fabric', 'cleaner', 'used', 'however', 'avoid', 'applying', 'cleaner', 'directly', 'stain', 'cause', 'damage', 'fabric', 'fade', 'colour', 'pour', 'cleaner', 'onto', 'clean', 'cloth', 'test', 'effect', 'hidden', 'area', 'sofa', 'cleaning', 'stain', 'cloth', 'professional', 'scotchguard', 'treatment', 'one', 'easiest', 'effective', 'option', 'protect', 'spill', 'stain', 'keep', 'pet', 'hair', 'bay', 'getting', 'sofa', 'professionally', 'cleaned', 'every', 'month', 'take', 'care', 'nook', 'corner', 'cant', 'reach', 'also', 'make', 'durable', 'finish', 'type', 'matte', 'important', 'note', 'cancellation', 'allowed', 'product', 'hr', 'order', 'booking', 'warranty', 'covered', 'warranty', 'warranty', 'cover', 'kind', 'manufacturing', 'defect', 'concerned', 'product', 'either', 'repaired', 'replaced', 'based', 'discretion', 'service', 'type', 'manufacturer', 'warranty', 'warranty', 'summary', 'month', 'domestic', 'warranty', 'covered', 'warranty', 'warranty', 'cover', 'improper', 'handling', 'dimension', 'weight', 'kg', 'height', 'mm', 'width', 'mm', 'depth', 'mm', 'disclaimer', 'color', 'product', 'may', 'vary', 'slightly', 'compared', 'picture', 'displayed', 'screen', 'due', 'lighting', 'pixel', 'quality', 'color', 'setting', 'please', 'check', 'product', 'dimension', 'ensure', 'product', 'fit', 'desired', 'location', 'also', 'check', 'product', 'fit', 'throughview', 'color', 'product', 'may', 'vary', 'slightly', 'compared', 'picture', 'displayed', 'screen', 'due', 'lighting', 'pixel', 'quality', 'color', 'setting', 'please', 'check', 'product', 'dimension', 'ensure', 'product', 'fit', 'desired', 'location', 'also', 'check', 'product', 'fit', 'entrance', 'door', 'premise', 'please', 'expect', 'unevenness', 'mm', 'product', 'due', 'difference', 'surface', 'floor', 'level', 'flipkart', 'seller', 'delivering', 'product', 'take', 'type', 'civil', 'work', 'drilling', 'hole', 'wall', 'mount', 'product', 'product', 'assembled', 'case', 'carpentry', 'assembly', 'required', 'case', 'product', 'appears', 'lack', 'shine', 'wiping', 'surface', 'cloth', 'help', 'clear', 'surface', 'dust', 'particle', 'material', 'color', 'upholstery', 'color', 'leatherette', 'black', 'primary', 'color', 'black', 'primary', 'material', 'fabric', 'secondary', 'material', 'subtype', 'mango', 'wood', 'secondary', 'material', 'foam', 'finish', 'color', 'leatherette', 'black', 'primary', 'material', 'subtype', 'foam']\n"
          ],
          "name": "stdout"
        }
      ]
    },
    {
      "cell_type": "markdown",
      "metadata": {
        "id": "XMwVNJbLAg5o"
      },
      "source": [
        "##Preparing Inputs\n",
        "\n",
        "Tokenizing Product Description, Using a Label Encoder to encode the Categories to Feed the Model."
      ]
    },
    {
      "cell_type": "code",
      "metadata": {
        "colab": {
          "base_uri": "https://localhost:8080/"
        },
        "id": "Hi_3l0b3Ak36",
        "outputId": "10a3ddf9-ea5c-46f8-f52d-56fe93e4e30a"
      },
      "source": [
        "#Using Bag Of Words over the tokenized text to create a dictionary\n",
        "\n",
        "from keras.preprocessing.text import Tokenizer\n",
        "from keras.preprocessing.sequence import pad_sequences\n",
        "\n",
        "tokenizer_obj = Tokenizer()\n",
        "max_length = max([ len(k) for s in desc for k in s])\n",
        "\n",
        "print(\"Max length is: \"+ str(max_length))\n",
        "tokenizer_obj.fit_on_texts(desc)\n",
        "sequences  = tokenizer_obj.texts_to_sequences(desc)\n",
        "\n",
        "word_index=tokenizer_obj.word_index\n",
        "print(len(word_index))\n",
        "\n",
        "from keras.preprocessing.sequence import pad_sequences \n",
        "\n",
        "review_pad = pad_sequences(sequences,maxlen=max_length)\n",
        "print(review_pad.shape)\n",
        "\n",
        "print(desc[0])\n",
        "print(review_pad[0])"
      ],
      "execution_count": 655,
      "outputs": [
        {
          "output_type": "stream",
          "text": [
            "Max length is: 62\n",
            "21330\n",
            "(19998, 62)\n",
            "['key', 'feature', 'alisha', 'solid', 'woman', 'cycling', 'short', 'cotton', 'lycra', 'navy', 'red', 'navyspecifications', 'alisha', 'solid', 'woman', 'cycling', 'short', 'short', 'detail', 'number', 'content', 'sale', 'package', 'pack', 'fabric', 'cotton', 'lycra', 'type', 'cycling', 'short', 'general', 'detail', 'pattern', 'solid', 'ideal', 'woman', 'fabric', 'care', 'gentle', 'machine', 'wash', 'lukewarm', 'water', 'bleach', 'additional', 'detail', 'style', 'code', 'box', 'short']\n",
            "[    0     0     0     0     0     0     0     0     0     0     0     0\n",
            "    37    16  4195    33     4  1091   144    32   554   812   106 16215\n",
            "  4195    33     4  1091   144   144    18    36    76    50    40    30\n",
            "    23    32   554    19  1091   144    24    18    78    33    38     4\n",
            "    23   102   521   225   111   773   137   274    90    18    53   110\n",
            "    27   144]\n"
          ],
          "name": "stdout"
        }
      ]
    },
    {
      "cell_type": "code",
      "metadata": {
        "colab": {
          "base_uri": "https://localhost:8080/"
        },
        "id": "mQijWcvTBtnb",
        "outputId": "03e9157d-66c2-4265-eefa-8a0f8e0aba05"
      },
      "source": [
        "category = df['product_category_tree'].values\n",
        "category.shape"
      ],
      "execution_count": 656,
      "outputs": [
        {
          "output_type": "execute_result",
          "data": {
            "text/plain": [
              "(20000,)"
            ]
          },
          "metadata": {
            "tags": []
          },
          "execution_count": 656
        }
      ]
    },
    {
      "cell_type": "code",
      "metadata": {
        "colab": {
          "base_uri": "https://localhost:8080/",
          "height": 0
        },
        "id": "Xy6kgVgYCR1_",
        "outputId": "62b35996-8c58-48d6-c71e-26676dee90a5"
      },
      "source": [
        "category[2]"
      ],
      "execution_count": 657,
      "outputs": [
        {
          "output_type": "execute_result",
          "data": {
            "application/vnd.google.colaboratory.intrinsic+json": {
              "type": "string"
            },
            "text/plain": [
              "'[\"Footwear >> Women\\'s Footwear >> Ballerinas >> AW Bellies\"]'"
            ]
          },
          "metadata": {
            "tags": []
          },
          "execution_count": 657
        }
      ]
    },
    {
      "cell_type": "code",
      "metadata": {
        "id": "6MQjtdCyCIzy"
      },
      "source": [
        "# Only selecting main category\n",
        "for i in range(20000):\n",
        "  res1 = category[i].partition('\"')[2]\n",
        "  category[i] = res1.partition(' >')[0]"
      ],
      "execution_count": 658,
      "outputs": []
    },
    {
      "cell_type": "code",
      "metadata": {
        "colab": {
          "base_uri": "https://localhost:8080/",
          "height": 0
        },
        "id": "DvIUsHcJEhIE",
        "outputId": "e521e348-b038-463e-84fb-39384d502c21"
      },
      "source": [
        "category[100]"
      ],
      "execution_count": 659,
      "outputs": [
        {
          "output_type": "execute_result",
          "data": {
            "application/vnd.google.colaboratory.intrinsic+json": {
              "type": "string"
            },
            "text/plain": [
              "'Watches'"
            ]
          },
          "metadata": {
            "tags": []
          },
          "execution_count": 659
        }
      ]
    },
    {
      "cell_type": "code",
      "metadata": {
        "id": "cbzG-1C6E1cc"
      },
      "source": [
        "#Shuffling the data\n",
        "indices = np.arange(review_pad.shape[0])\n",
        "np.random.shuffle(indices)\n",
        "review_pad = review_pad[indices]\n",
        "category = category[indices]"
      ],
      "execution_count": 660,
      "outputs": []
    },
    {
      "cell_type": "code",
      "metadata": {
        "colab": {
          "base_uri": "https://localhost:8080/"
        },
        "id": "x8zIou42F1wx",
        "outputId": "092118b5-5b75-4473-b66e-101de8c0cdb5"
      },
      "source": [
        "print(review_pad.shape)\n",
        "print(category.shape)"
      ],
      "execution_count": 661,
      "outputs": [
        {
          "output_type": "stream",
          "text": [
            "(19998, 62)\n",
            "(19998,)\n"
          ],
          "name": "stdout"
        }
      ]
    },
    {
      "cell_type": "code",
      "metadata": {
        "colab": {
          "base_uri": "https://localhost:8080/",
          "height": 0
        },
        "id": "aI70asAUWga3",
        "outputId": "3392f09c-418c-4af6-f074-fee704407495"
      },
      "source": [
        "category[19]"
      ],
      "execution_count": 662,
      "outputs": [
        {
          "output_type": "execute_result",
          "data": {
            "application/vnd.google.colaboratory.intrinsic+json": {
              "type": "string"
            },
            "text/plain": [
              "'Jewellery'"
            ]
          },
          "metadata": {
            "tags": []
          },
          "execution_count": 662
        }
      ]
    },
    {
      "cell_type": "code",
      "metadata": {
        "id": "R-BwaBgfIXit"
      },
      "source": [
        "#Creating a Label Encoding\n",
        "\n",
        "from sklearn.preprocessing import LabelEncoder\n",
        "\n",
        "le = LabelEncoder()\n",
        "le.fit(category)\n",
        "# encode\n",
        "category = le.transform(category)"
      ],
      "execution_count": 663,
      "outputs": []
    },
    {
      "cell_type": "code",
      "metadata": {
        "colab": {
          "base_uri": "https://localhost:8080/"
        },
        "id": "AxWdEjc6Wumv",
        "outputId": "d2a52ad6-fd45-4c02-d429-dc9544d782c3"
      },
      "source": [
        "category[19]"
      ],
      "execution_count": 664,
      "outputs": [
        {
          "output_type": "execute_result",
          "data": {
            "text/plain": [
              "99"
            ]
          },
          "metadata": {
            "tags": []
          },
          "execution_count": 664
        }
      ]
    },
    {
      "cell_type": "code",
      "metadata": {
        "colab": {
          "base_uri": "https://localhost:8080/"
        },
        "id": "zy1zwXQ92rG0",
        "outputId": "76a7fd1d-faf7-4e05-8fc9-a1a3b7995c4d"
      },
      "source": [
        "arr = np.unique(category)\n",
        "count = arr.size\n",
        "print(count)"
      ],
      "execution_count": 665,
      "outputs": [
        {
          "output_type": "stream",
          "text": [
            "266\n"
          ],
          "name": "stdout"
        }
      ]
    },
    {
      "cell_type": "code",
      "metadata": {
        "colab": {
          "base_uri": "https://localhost:8080/"
        },
        "id": "_pQHEAF37LYV",
        "outputId": "b069c307-1930-4188-fb2f-2eedd75b7c6f"
      },
      "source": [
        "print(category)\n",
        "print(review_pad)"
      ],
      "execution_count": 666,
      "outputs": [
        {
          "output_type": "stream",
          "text": [
            "[99 99 90 ... 43 74 76]\n",
            "[[   0    0    0 ...   14   13   11]\n",
            " [   0    0    0 ...    9   12   15]\n",
            " [   0    0    0 ...   14   13   11]\n",
            " ...\n",
            " [   1  532 9776 ...   50   40  532]\n",
            " [   0    0    0 ...    9   12   15]\n",
            " [   0    0    0 ...   14   13   11]]\n"
          ],
          "name": "stdout"
        }
      ]
    },
    {
      "cell_type": "code",
      "metadata": {
        "colab": {
          "base_uri": "https://localhost:8080/"
        },
        "id": "dSJR81eDnToL",
        "outputId": "d4cea38b-6062-4f83-8e34-c3da3cb826ea"
      },
      "source": [
        "#Calculating Frequencies and having a look\n",
        "frequencies = np.asarray((np.unique(category, return_counts=True))).T\n",
        "print(frequencies[:30])"
      ],
      "execution_count": 667,
      "outputs": [
        {
          "output_type": "stream",
          "text": [
            "[[   0    1]\n",
            " [   1    1]\n",
            " [   2    2]\n",
            " [   3    1]\n",
            " [   4    1]\n",
            " [   5    1]\n",
            " [   6    1]\n",
            " [   7    1]\n",
            " [   8    2]\n",
            " [   9    1]\n",
            " [  10    1]\n",
            " [  11    1]\n",
            " [  12    1]\n",
            " [  13    1]\n",
            " [  14    1]\n",
            " [  15    1]\n",
            " [  16    1]\n",
            " [  17    1]\n",
            " [  18    1]\n",
            " [  19    1]\n",
            " [  20    1]\n",
            " [  21 1012]\n",
            " [  22    1]\n",
            " [  23    1]\n",
            " [  24    1]\n",
            " [  25    1]\n",
            " [  26  481]\n",
            " [  27  265]\n",
            " [  28    1]\n",
            " [  29  710]]\n"
          ],
          "name": "stdout"
        }
      ]
    },
    {
      "cell_type": "markdown",
      "metadata": {
        "id": "0Xb-q3r8nmXz"
      },
      "source": [
        "As can be seen, there are a plethora of categories with just a few instances.\n",
        "\n",
        "These add to the number of softmax outputs the model has to work with and lowers the accuracy. Fitting on these rare categories likely implies the model has overfitted.\n",
        "\n",
        "As these largely serve as a drag on the model and are few in number as compared to the total size of the dataset, they have been dropped."
      ]
    },
    {
      "cell_type": "code",
      "metadata": {
        "colab": {
          "base_uri": "https://localhost:8080/"
        },
        "id": "2-uxMaJ7Rk_Y",
        "outputId": "e60c43cb-dfab-47c1-c3e3-30e4506c4032"
      },
      "source": [
        "#Dropping categories with Frequency less than 1000\n",
        "\n",
        "dc = 0\n",
        "flag = np.zeros(19998)\n",
        "frequencies = np.asarray((np.unique(category, return_counts=True))).T\n",
        "mask = np.ones(len(category), dtype=bool)\n",
        "for i in range(19998):\n",
        "  if (frequencies[category[i]][1]<1000):\n",
        "    category[i] = 1000\n",
        "    review_pad = np.delete(review_pad, (i-dc), 0)\n",
        "    dc+=1\n",
        "\n",
        "category = np.delete(category, np.where(category == 1000))\n",
        "\n",
        "print(category)\n",
        "print(review_pad)"
      ],
      "execution_count": 668,
      "outputs": [
        {
          "output_type": "stream",
          "text": [
            "[99 99 99 ... 74 43 74]\n",
            "[[   0    0    0 ...   14   13   11]\n",
            " [   0    0    0 ...    9   12   15]\n",
            " [   0    0    0 ...   14   13   11]\n",
            " ...\n",
            " [   0    0    0 ...    9   12   15]\n",
            " [   1  532 9776 ...   50   40  532]\n",
            " [   0    0    0 ...    9   12   15]]\n"
          ],
          "name": "stdout"
        }
      ]
    },
    {
      "cell_type": "code",
      "metadata": {
        "colab": {
          "base_uri": "https://localhost:8080/"
        },
        "id": "ohVN5hHvSof0",
        "outputId": "7c81308a-fa21-4618-832a-6769cb3594de"
      },
      "source": [
        "print(category.shape)\n",
        "print(review_pad.shape)"
      ],
      "execution_count": 669,
      "outputs": [
        {
          "output_type": "stream",
          "text": [
            "(13067,)\n",
            "(13067, 62)\n"
          ],
          "name": "stdout"
        }
      ]
    },
    {
      "cell_type": "code",
      "metadata": {
        "colab": {
          "base_uri": "https://localhost:8080/"
        },
        "id": "mwXoB1dW6Yf4",
        "outputId": "18a95952-e65e-4267-cd38-d33efaf27668"
      },
      "source": [
        "arr = np.unique(category)\n",
        "count = arr.size\n",
        "print(count)"
      ],
      "execution_count": 670,
      "outputs": [
        {
          "output_type": "stream",
          "text": [
            "5\n"
          ],
          "name": "stdout"
        }
      ]
    },
    {
      "cell_type": "code",
      "metadata": {
        "colab": {
          "base_uri": "https://localhost:8080/"
        },
        "id": "yf9E2Q5OVH-4",
        "outputId": "5811e3d4-b065-47e9-fa94-d75d63202a6a"
      },
      "source": [
        "frequencies = np.asarray((np.unique(category, return_counts=True))).T\n",
        "print(frequencies[:20])"
      ],
      "execution_count": 671,
      "outputs": [
        {
          "output_type": "stream",
          "text": [
            "[[  21 1012]\n",
            " [  43 6198]\n",
            " [  74 1227]\n",
            " [  99 3531]\n",
            " [ 131 1099]]\n"
          ],
          "name": "stdout"
        }
      ]
    },
    {
      "cell_type": "code",
      "metadata": {
        "id": "daRufmRyV29p"
      },
      "source": [
        "#Re-Encoding with the remaining Categories\n",
        "\n",
        "from sklearn.preprocessing import LabelEncoder\n",
        "\n",
        "le1 = LabelEncoder()\n",
        "le1.fit(category)\n",
        "# encode\n",
        "category = le1.transform(category)"
      ],
      "execution_count": 672,
      "outputs": []
    },
    {
      "cell_type": "code",
      "metadata": {
        "colab": {
          "base_uri": "https://localhost:8080/"
        },
        "id": "P_JLB7tLV4Uv",
        "outputId": "67a5536b-1adb-4bf1-cde9-0ea0976dc6cf"
      },
      "source": [
        "print(category)"
      ],
      "execution_count": 673,
      "outputs": [
        {
          "output_type": "stream",
          "text": [
            "[3 3 3 ... 2 1 2]\n"
          ],
          "name": "stdout"
        }
      ]
    },
    {
      "cell_type": "markdown",
      "metadata": {
        "id": "TlN09ApKe5GT"
      },
      "source": [
        "##OverSampling\n",
        "Oversampling training data to allow the model to better recognize various categories"
      ]
    },
    {
      "cell_type": "code",
      "metadata": {
        "id": "TOvGdUuOmXm-"
      },
      "source": [
        "#Splitting into train and test data\n",
        "\n",
        "review_pad_train = review_pad[:5000][:]\n",
        "category_train = category[:5000]\n",
        "review_pad_test = review_pad[11000:][:]\n",
        "category_test = category[11000:]"
      ],
      "execution_count": 674,
      "outputs": []
    },
    {
      "cell_type": "code",
      "metadata": {
        "colab": {
          "base_uri": "https://localhost:8080/"
        },
        "id": "EYWMkmnQraJP",
        "outputId": "be3b17bd-4c3d-46d1-8cc4-ebde8362f65f"
      },
      "source": [
        "review_pad_test.shape"
      ],
      "execution_count": 675,
      "outputs": [
        {
          "output_type": "execute_result",
          "data": {
            "text/plain": [
              "(2067, 62)"
            ]
          },
          "metadata": {
            "tags": []
          },
          "execution_count": 675
        }
      ]
    },
    {
      "cell_type": "code",
      "metadata": {
        "colab": {
          "base_uri": "https://localhost:8080/"
        },
        "id": "v4cih3Uge9rm",
        "outputId": "0ea8c242-3413-468f-8b52-0c8463347242"
      },
      "source": [
        "#Oversampling part of the training data, and appending the remainding to it without change\n",
        "\n",
        "from imblearn.over_sampling import RandomOverSampler\n",
        "\n",
        "# define oversampling strategy\n",
        "oversample = RandomOverSampler(sampling_strategy='all')\n",
        "\n",
        "# fit and apply the transform\n",
        "review_pad_over, category_over = oversample.fit_resample(review_pad_train, category_train)\n",
        "\n",
        "review_pad_over = np.concatenate((review_pad_over, review_pad[5000:11000][:]))\n",
        "category_over = np.concatenate((category_over, category[5000:11000][:]))"
      ],
      "execution_count": 676,
      "outputs": [
        {
          "output_type": "stream",
          "text": [
            "/usr/local/lib/python3.7/dist-packages/sklearn/utils/deprecation.py:87: FutureWarning: Function safe_indexing is deprecated; safe_indexing is deprecated in version 0.22 and will be removed in version 0.24.\n",
            "  warnings.warn(msg, category=FutureWarning)\n"
          ],
          "name": "stderr"
        }
      ]
    },
    {
      "cell_type": "code",
      "metadata": {
        "colab": {
          "base_uri": "https://localhost:8080/"
        },
        "id": "K9SI3yjl42uT",
        "outputId": "49d0b83d-d493-4bf1-df91-5d8afba6ee42"
      },
      "source": [
        "review_pad_over.shape"
      ],
      "execution_count": 677,
      "outputs": [
        {
          "output_type": "execute_result",
          "data": {
            "text/plain": [
              "(17930, 62)"
            ]
          },
          "metadata": {
            "tags": []
          },
          "execution_count": 677
        }
      ]
    },
    {
      "cell_type": "code",
      "metadata": {
        "colab": {
          "base_uri": "https://localhost:8080/",
          "height": 0
        },
        "id": "8QnZMFOIgC6P",
        "outputId": "d164eb92-d12b-4948-a0fe-5ae90ab2d11d"
      },
      "source": [
        "#Plotting the model before and after overampling\n",
        "\n",
        "import seaborn as sns\n",
        "plt.figure(figsize = (10, 8))\n",
        "plt.subplot(1, 2, 1)\n",
        "sns.countplot(category)\n",
        "plt.title('Data Distribution before Oversampling')\n",
        "plt.subplot(1, 2, 2)\n",
        "sns.countplot(category_over)\n",
        "plt.title('Data Distribution after Oversampling')\n",
        "plt.show()"
      ],
      "execution_count": 678,
      "outputs": [
        {
          "output_type": "stream",
          "text": [
            "/usr/local/lib/python3.7/dist-packages/seaborn/_decorators.py:43: FutureWarning: Pass the following variable as a keyword arg: x. From version 0.12, the only valid positional argument will be `data`, and passing other arguments without an explicit keyword will result in an error or misinterpretation.\n",
            "  FutureWarning\n",
            "/usr/local/lib/python3.7/dist-packages/seaborn/_decorators.py:43: FutureWarning: Pass the following variable as a keyword arg: x. From version 0.12, the only valid positional argument will be `data`, and passing other arguments without an explicit keyword will result in an error or misinterpretation.\n",
            "  FutureWarning\n"
          ],
          "name": "stderr"
        },
        {
          "output_type": "display_data",
          "data": {
            "image/png": "[encoded data removed]",
            "text/plain": [
              "<Figure size 720x576 with 2 Axes>"
            ]
          },
          "metadata": {
            "tags": [],
            "needs_background": "light"
          }
        }
      ]
    },
    {
      "cell_type": "code",
      "metadata": {
        "colab": {
          "base_uri": "https://localhost:8080/"
        },
        "id": "xc4R1eKtj8i_",
        "outputId": "875848ac-12e7-493f-9286-f874f24e1179"
      },
      "source": [
        "print(review_pad_over.shape)\n",
        "print(category_over.shape)"
      ],
      "execution_count": 679,
      "outputs": [
        {
          "output_type": "stream",
          "text": [
            "(17930, 62)\n",
            "(17930,)\n"
          ],
          "name": "stdout"
        }
      ]
    },
    {
      "cell_type": "markdown",
      "metadata": {
        "id": "9Tqwsy_1FV30"
      },
      "source": [
        "##Transformer"
      ]
    },
    {
      "cell_type": "code",
      "metadata": {
        "id": "ZLtW9JqVFW9g"
      },
      "source": [
        "EMBEDDING_DIM = 100\n",
        "num_words = len(word_index) + 1"
      ],
      "execution_count": 598,
      "outputs": []
    },
    {
      "cell_type": "code",
      "metadata": {
        "id": "yCKjDEb75mBs"
      },
      "source": [
        "from keras.models import Sequential\n",
        "from keras.layers import LSTM, Dense, Dropout, Masking, Embedding,SpatialDropout1D,GRU, RNN\n",
        "from keras.callbacks import EarlyStopping, ReduceLROnPlateau\n",
        "from keras.initializers import Constant"
      ],
      "execution_count": 599,
      "outputs": []
    },
    {
      "cell_type": "code",
      "metadata": {
        "id": "WiMnVUZEY2Vo"
      },
      "source": [
        "import tensorflow as tf\n",
        "from tensorflow import keras\n",
        "from tensorflow.keras import layers"
      ],
      "execution_count": 600,
      "outputs": []
    },
    {
      "cell_type": "code",
      "metadata": {
        "id": "dYa78hDtY7Ng"
      },
      "source": [
        "class TransformerBlock(layers.Layer):\n",
        "    def __init__(self, embed_dim, num_heads, ff_dim, rate=0.2):\n",
        "        super(TransformerBlock, self).__init__()\n",
        "        self.att = layers.MultiHeadAttention(num_heads=num_heads, key_dim=embed_dim)\n",
        "        self.ffn = keras.Sequential(\n",
        "            [layers.Dense(ff_dim, activation=\"relu\"), layers.Dense(embed_dim),]\n",
        "        )\n",
        "        self.layernorm1 = layers.LayerNormalization(epsilon=1e-6)\n",
        "        self.layernorm2 = layers.LayerNormalization(epsilon=1e-6)\n",
        "        self.dropout1 = layers.Dropout(rate)\n",
        "        self.dropout2 = layers.Dropout(rate)\n",
        "\n",
        "    def call(self, inputs, training):\n",
        "        attn_output = self.att(inputs, inputs)\n",
        "        attn_output = self.dropout1(attn_output, training=training)\n",
        "        out1 = self.layernorm1(inputs + attn_output)\n",
        "        ffn_output = self.ffn(out1)\n",
        "        ffn_output = self.dropout2(ffn_output, training=training)\n",
        "        return self.layernorm2(out1 + ffn_output)"
      ],
      "execution_count": 601,
      "outputs": []
    },
    {
      "cell_type": "code",
      "metadata": {
        "id": "GpDrB4mSY9vS"
      },
      "source": [
        "class TokenAndPositionEmbedding(layers.Layer):\n",
        "    def __init__(self, maxlen, vocab_size, embed_dim):\n",
        "        super(TokenAndPositionEmbedding, self).__init__()\n",
        "        self.token_emb = layers.Embedding(input_dim=vocab_size, output_dim=embed_dim)\n",
        "        self.pos_emb = layers.Embedding(input_dim=maxlen, output_dim=embed_dim)\n",
        "\n",
        "    def call(self, x):\n",
        "        maxlen = tf.shape(x)[-1]\n",
        "        positions = tf.range(start=0, limit=maxlen, delta=1)\n",
        "        positions = self.pos_emb(positions)\n",
        "        x = self.token_emb(x)\n",
        "        return x + positions"
      ],
      "execution_count": 602,
      "outputs": []
    },
    {
      "cell_type": "code",
      "metadata": {
        "colab": {
          "base_uri": "https://localhost:8080/"
        },
        "id": "KwLuNoc9ZBBg",
        "outputId": "0e2cfeca-8e0e-4f63-f5c0-0494c8e68a27"
      },
      "source": [
        "embed_dim = EMBEDDING_DIM  # Embedding size for each token\n",
        "vocab_size = 50000\n",
        "num_heads = 2  # Number of attention heads\n",
        "ff_dim = 32  # Hidden layer size in feed forward network inside transformer\n",
        "\n",
        "inputs = layers.Input(shape=(max_length,))\n",
        "embedding_layer = TokenAndPositionEmbedding(max_length, vocab_size, embed_dim)\n",
        "x = embedding_layer(inputs)\n",
        "transformer_block = TransformerBlock(embed_dim, num_heads, ff_dim)\n",
        "x = transformer_block(x)\n",
        "x = layers.GlobalAveragePooling1D()(x)\n",
        "x = layers.Dropout(0.2)(x)\n",
        "x = layers.Dense(500, activation=\"relu\")(x)\n",
        "x = layers.Dropout(0.2)(x)\n",
        "x = layers.Dense(500, activation=\"relu\")(x)\n",
        "outputs = layers.Dense(count, activation=\"softmax\")(x)\n",
        "\n",
        "model = keras.Model(inputs=inputs, outputs=outputs)\n",
        "\n",
        "model.summary()"
      ],
      "execution_count": 603,
      "outputs": [
        {
          "output_type": "stream",
          "text": [
            "Model: \"model_24\"\n",
            "_________________________________________________________________\n",
            "Layer (type)                 Output Shape              Param #   \n",
            "=================================================================\n",
            "input_25 (InputLayer)        [(None, 62)]              0         \n",
            "_________________________________________________________________\n",
            "token_and_position_embedding (None, 62, 100)           5006200   \n",
            "_________________________________________________________________\n",
            "transformer_block_24 (Transf (None, 62, 100)           87632     \n",
            "_________________________________________________________________\n",
            "global_average_pooling1d_24  (None, 100)               0         \n",
            "_________________________________________________________________\n",
            "dropout_99 (Dropout)         (None, 100)               0         \n",
            "_________________________________________________________________\n",
            "dense_121 (Dense)            (None, 500)               50500     \n",
            "_________________________________________________________________\n",
            "dropout_100 (Dropout)        (None, 500)               0         \n",
            "_________________________________________________________________\n",
            "dense_122 (Dense)            (None, 500)               250500    \n",
            "_________________________________________________________________\n",
            "dense_123 (Dense)            (None, 5)                 2505      \n",
            "=================================================================\n",
            "Total params: 5,397,337\n",
            "Trainable params: 5,397,337\n",
            "Non-trainable params: 0\n",
            "_________________________________________________________________\n"
          ],
          "name": "stdout"
        }
      ]
    },
    {
      "cell_type": "code",
      "metadata": {
        "id": "zPnZ8MJMZZXD",
        "colab": {
          "base_uri": "https://localhost:8080/"
        },
        "outputId": "d3a22389-13b7-4afb-9cfd-f09c48159a15"
      },
      "source": [
        "model.compile(loss=\"sparse_categorical_crossentropy\", optimizer=tf.keras.optimizers.Adam(learning_rate=0.00001, name=\"Adam\"), metrics=['accuracy'])\n",
        "# history = model.fit(\n",
        "#     x_train, y_train, batch_size=32, epochs=2, validation_data=(x_val, y_val)\n",
        "# )\n",
        "reducelr = ReduceLROnPlateau(monitor='val_loss', factor=0.2, patience=5, min_lr=0.000001)\n",
        "es = EarlyStopping(monitor='val_loss', patience=5, min_delta=0.0001)\n",
        "history = model.fit(review_pad_over, category_over, epochs=35, batch_size=256, validation_data=(review_pad_test, category_test), callbacks=[reducelr])"
      ],
      "execution_count": 604,
      "outputs": [
        {
          "output_type": "stream",
          "text": [
            "Epoch 1/35\n",
            "71/71 [==============================] - 6s 73ms/step - loss: 1.6232 - accuracy: 0.2047 - val_loss: 1.4887 - val_accuracy: 0.4543\n",
            "Epoch 2/35\n",
            "71/71 [==============================] - 5s 66ms/step - loss: 1.5719 - accuracy: 0.2872 - val_loss: 1.4393 - val_accuracy: 0.4543\n",
            "Epoch 3/35\n",
            "71/71 [==============================] - 5s 66ms/step - loss: 1.5552 - accuracy: 0.3087 - val_loss: 1.4270 - val_accuracy: 0.5452\n",
            "Epoch 4/35\n",
            "71/71 [==============================] - 5s 65ms/step - loss: 1.5413 - accuracy: 0.3263 - val_loss: 1.4064 - val_accuracy: 0.5588\n",
            "Epoch 5/35\n",
            "71/71 [==============================] - 5s 67ms/step - loss: 1.5254 - accuracy: 0.3499 - val_loss: 1.3790 - val_accuracy: 0.5772\n",
            "Epoch 6/35\n",
            "71/71 [==============================] - 5s 67ms/step - loss: 1.5029 - accuracy: 0.3674 - val_loss: 1.3495 - val_accuracy: 0.5781\n",
            "Epoch 7/35\n",
            "71/71 [==============================] - 5s 67ms/step - loss: 1.4790 - accuracy: 0.3895 - val_loss: 1.2922 - val_accuracy: 0.5786\n",
            "Epoch 8/35\n",
            "71/71 [==============================] - 5s 67ms/step - loss: 1.4446 - accuracy: 0.4046 - val_loss: 1.2470 - val_accuracy: 0.5709\n",
            "Epoch 9/35\n",
            "71/71 [==============================] - 5s 67ms/step - loss: 1.4066 - accuracy: 0.4198 - val_loss: 1.1935 - val_accuracy: 0.5680\n",
            "Epoch 10/35\n",
            "71/71 [==============================] - 5s 65ms/step - loss: 1.3627 - accuracy: 0.4440 - val_loss: 1.1741 - val_accuracy: 0.5675\n",
            "Epoch 11/35\n",
            "71/71 [==============================] - 5s 67ms/step - loss: 1.3270 - accuracy: 0.4586 - val_loss: 1.1647 - val_accuracy: 0.5670\n",
            "Epoch 12/35\n",
            "71/71 [==============================] - 5s 66ms/step - loss: 1.2921 - accuracy: 0.4770 - val_loss: 1.1388 - val_accuracy: 0.5723\n",
            "Epoch 13/35\n",
            "71/71 [==============================] - 5s 66ms/step - loss: 1.2777 - accuracy: 0.4861 - val_loss: 1.1301 - val_accuracy: 0.5781\n",
            "Epoch 14/35\n",
            "71/71 [==============================] - 5s 66ms/step - loss: 1.2513 - accuracy: 0.5002 - val_loss: 1.1177 - val_accuracy: 0.5781\n",
            "Epoch 15/35\n",
            "71/71 [==============================] - 5s 67ms/step - loss: 1.2275 - accuracy: 0.5158 - val_loss: 1.1119 - val_accuracy: 0.5791\n",
            "Epoch 16/35\n",
            "71/71 [==============================] - 5s 66ms/step - loss: 1.1993 - accuracy: 0.5298 - val_loss: 1.0910 - val_accuracy: 0.5849\n",
            "Epoch 17/35\n",
            "71/71 [==============================] - 5s 67ms/step - loss: 1.1704 - accuracy: 0.5472 - val_loss: 1.0863 - val_accuracy: 0.5878\n",
            "Epoch 18/35\n",
            "71/71 [==============================] - 5s 66ms/step - loss: 1.1553 - accuracy: 0.5534 - val_loss: 1.0911 - val_accuracy: 0.5917\n",
            "Epoch 19/35\n",
            "71/71 [==============================] - 5s 67ms/step - loss: 1.1158 - accuracy: 0.5739 - val_loss: 1.0615 - val_accuracy: 0.6028\n",
            "Epoch 20/35\n",
            "71/71 [==============================] - 5s 67ms/step - loss: 1.0955 - accuracy: 0.5842 - val_loss: 1.0585 - val_accuracy: 0.6023\n",
            "Epoch 21/35\n",
            "71/71 [==============================] - 5s 66ms/step - loss: 1.0791 - accuracy: 0.5981 - val_loss: 1.0483 - val_accuracy: 0.6086\n",
            "Epoch 22/35\n",
            "71/71 [==============================] - 5s 67ms/step - loss: 1.0377 - accuracy: 0.6154 - val_loss: 1.0357 - val_accuracy: 0.6197\n",
            "Epoch 23/35\n",
            "71/71 [==============================] - 5s 67ms/step - loss: 1.0111 - accuracy: 0.6326 - val_loss: 1.0226 - val_accuracy: 0.6294\n",
            "Epoch 24/35\n",
            "71/71 [==============================] - 5s 67ms/step - loss: 0.9864 - accuracy: 0.6398 - val_loss: 1.0006 - val_accuracy: 0.6439\n",
            "Epoch 25/35\n",
            "71/71 [==============================] - 5s 66ms/step - loss: 0.9664 - accuracy: 0.6507 - val_loss: 0.9937 - val_accuracy: 0.6463\n",
            "Epoch 26/35\n",
            "71/71 [==============================] - 5s 67ms/step - loss: 0.9498 - accuracy: 0.6545 - val_loss: 0.9929 - val_accuracy: 0.6459\n",
            "Epoch 27/35\n",
            "71/71 [==============================] - 5s 67ms/step - loss: 0.9201 - accuracy: 0.6753 - val_loss: 0.9826 - val_accuracy: 0.6531\n",
            "Epoch 28/35\n",
            "71/71 [==============================] - 5s 66ms/step - loss: 0.9038 - accuracy: 0.6733 - val_loss: 0.9910 - val_accuracy: 0.6497\n",
            "Epoch 29/35\n",
            "71/71 [==============================] - 5s 67ms/step - loss: 0.8867 - accuracy: 0.6883 - val_loss: 0.9722 - val_accuracy: 0.6570\n",
            "Epoch 30/35\n",
            "71/71 [==============================] - 5s 67ms/step - loss: 0.8644 - accuracy: 0.6887 - val_loss: 0.9617 - val_accuracy: 0.6580\n",
            "Epoch 31/35\n",
            "71/71 [==============================] - 5s 67ms/step - loss: 0.8446 - accuracy: 0.6969 - val_loss: 0.9644 - val_accuracy: 0.6546\n",
            "Epoch 32/35\n",
            "71/71 [==============================] - 5s 66ms/step - loss: 0.8399 - accuracy: 0.6981 - val_loss: 0.9483 - val_accuracy: 0.6667\n",
            "Epoch 33/35\n",
            "71/71 [==============================] - 5s 67ms/step - loss: 0.8093 - accuracy: 0.7098 - val_loss: 0.9534 - val_accuracy: 0.6589\n",
            "Epoch 34/35\n",
            "71/71 [==============================] - 5s 67ms/step - loss: 0.7904 - accuracy: 0.7186 - val_loss: 0.9666 - val_accuracy: 0.6546\n",
            "Epoch 35/35\n",
            "71/71 [==============================] - 5s 66ms/step - loss: 0.7785 - accuracy: 0.7221 - val_loss: 0.9612 - val_accuracy: 0.6541\n"
          ],
          "name": "stdout"
        }
      ]
    },
    {
      "cell_type": "code",
      "metadata": {
        "id": "HNl2sAyiQsoN"
      },
      "source": [
        "model.save_weights(\"transformer.h5\")"
      ],
      "execution_count": 607,
      "outputs": []
    },
    {
      "cell_type": "markdown",
      "metadata": {
        "id": "27HIJvnaimU_"
      },
      "source": [
        "###Plots\n",
        "Plotting out the accuracy and loss of the model."
      ]
    },
    {
      "cell_type": "code",
      "metadata": {
        "colab": {
          "base_uri": "https://localhost:8080/",
          "height": 421
        },
        "id": "BGr165b6imU_",
        "outputId": "7c914a0d-298e-4660-c66e-144e900a6ba5"
      },
      "source": [
        "fig, axes = plt.subplots(1, figsize=(10, 6))\n",
        "\n",
        "# Plot training & validation accuracy values\n",
        "\n",
        "axes.plot(history.history['accuracy'])\n",
        "axes.plot(history.history['val_accuracy'])\n",
        "axes.set_title('Model accuracy')\n",
        "axes.set_ylabel('Accuracy')\n",
        "axes.set_xlabel('Epoch')\n",
        "axes.legend(['Train', 'Validation'], loc='upper left')"
      ],
      "execution_count": 605,
      "outputs": [
        {
          "output_type": "execute_result",
          "data": {
            "text/plain": [
              "<matplotlib.legend.Legend at 0x7f7cc97d59d0>"
            ]
          },
          "metadata": {
            "tags": []
          },
          "execution_count": 605
        },
        {
          "output_type": "display_data",
          "data": {
            "image/png": "[encoded data removed]",
            "text/plain": [
              "<Figure size 720x432 with 1 Axes>"
            ]
          },
          "metadata": {
            "tags": [],
            "needs_background": "light"
          }
        }
      ]
    },
    {
      "cell_type": "code",
      "metadata": {
        "colab": {
          "base_uri": "https://localhost:8080/",
          "height": 404
        },
        "id": "0tWahl9limVA",
        "outputId": "509348ab-2acc-451c-a5eb-2c884fd2e3ad"
      },
      "source": [
        "# Plot training & validation loss values\n",
        "\n",
        "fig, axes = plt.subplots(1,1, figsize=(10, 6))\n",
        "\n",
        "axes.plot(history.history['loss'])\n",
        "axes.plot(history.history['val_loss'])\n",
        "axes.set_title('Model loss')\n",
        "axes.set_ylabel('Loss')\n",
        "axes.set_xlabel('Epoch')\n",
        "axes.legend(['Train', 'Validation'], loc='upper left')\n",
        "plt.show()"
      ],
      "execution_count": 606,
      "outputs": [
        {
          "output_type": "display_data",
          "data": {
            "image/png": "[encoded data removed]",
            "text/plain": [
              "<Figure size 720x432 with 1 Axes>"
            ]
          },
          "metadata": {
            "tags": [],
            "needs_background": "light"
          }
        }
      ]
    },
    {
      "cell_type": "markdown",
      "metadata": {
        "id": "G4ZwrW8vjlHn"
      },
      "source": [
        "##LSTM"
      ]
    },
    {
      "cell_type": "code",
      "metadata": {
        "id": "wtwlPaJvjlHn"
      },
      "source": [
        "EMBEDDING_DIM = 100\n",
        "num_words = len(word_index) + 1"
      ],
      "execution_count": 689,
      "outputs": []
    },
    {
      "cell_type": "code",
      "metadata": {
        "id": "FS0HSbLCjlHn"
      },
      "source": [
        "from keras.models import Sequential\n",
        "from keras.layers import LSTM, Dense, Dropout, Masking, Embedding,SpatialDropout1D,GRU, RNN\n",
        "from keras.callbacks import EarlyStopping, ReduceLROnPlateau\n",
        "from keras.initializers import Constant"
      ],
      "execution_count": 690,
      "outputs": []
    },
    {
      "cell_type": "code",
      "metadata": {
        "colab": {
          "base_uri": "https://localhost:8080/"
        },
        "id": "ew8f5Szg5mEd",
        "outputId": "fce4b170-4f4c-4c89-93dd-72c0c7b72e66"
      },
      "source": [
        "model = Sequential()\n",
        "model.add(Embedding(num_words, EMBEDDING_DIM, input_length=max_length))\n",
        "model.add(tf.keras.layers.Bidirectional(LSTM(1000, dropout=0.2, recurrent_dropout=0.2, return_sequences=True)))\n",
        "model.add(tf.keras.layers.Bidirectional(LSTM(500)))\n",
        "model.add(Dense(500, activation=\"relu\"))\n",
        "model.add(Dense(count, activation='softmax'))\n",
        "model.summary()"
      ],
      "execution_count": 691,
      "outputs": [
        {
          "output_type": "stream",
          "text": [
            "WARNING:tensorflow:Layer lstm_4 will not use cuDNN kernel since it doesn't meet the cuDNN kernel criteria. It will use generic GPU kernel as fallback when running on GPU\n",
            "WARNING:tensorflow:Layer lstm_4 will not use cuDNN kernel since it doesn't meet the cuDNN kernel criteria. It will use generic GPU kernel as fallback when running on GPU\n",
            "WARNING:tensorflow:Layer lstm_4 will not use cuDNN kernel since it doesn't meet the cuDNN kernel criteria. It will use generic GPU kernel as fallback when running on GPU\n",
            "Model: \"sequential_27\"\n",
            "_________________________________________________________________\n",
            "Layer (type)                 Output Shape              Param #   \n",
            "=================================================================\n",
            "embedding_52 (Embedding)     (None, 62, 100)           2133100   \n",
            "_________________________________________________________________\n",
            "bidirectional_4 (Bidirection (None, 62, 2000)          8808000   \n",
            "_________________________________________________________________\n",
            "bidirectional_5 (Bidirection (None, 1000)              10004000  \n",
            "_________________________________________________________________\n",
            "dense_128 (Dense)            (None, 500)               500500    \n",
            "_________________________________________________________________\n",
            "dense_129 (Dense)            (None, 5)                 2505      \n",
            "=================================================================\n",
            "Total params: 21,448,105\n",
            "Trainable params: 21,448,105\n",
            "Non-trainable params: 0\n",
            "_________________________________________________________________\n"
          ],
          "name": "stdout"
        }
      ]
    },
    {
      "cell_type": "code",
      "metadata": {
        "id": "6NY-YAI56IIr",
        "colab": {
          "base_uri": "https://localhost:8080/"
        },
        "outputId": "edb26190-b530-4395-eedf-bd71f6bcd9e5"
      },
      "source": [
        "model.compile(loss=\"sparse_categorical_crossentropy\", optimizer=tf.keras.optimizers.Adam(learning_rate=0.00001, name=\"Adam\"), metrics=['accuracy'])\n",
        "reduce_lr = ReduceLROnPlateau(monitor='val_loss', factor=0.2,\n",
        "                              patience=2, min_lr=0.000001)\n",
        "es = EarlyStopping(monitor='val_loss', patience = 10, mode = 'min', restore_best_weights=True)\n",
        "history = model.fit(review_pad_over, category_over, epochs=30, verbose=1, batch_size=256, validation_data=(review_pad_test, category_test), callbacks=[reduce_lr])"
      ],
      "execution_count": 692,
      "outputs": [
        {
          "output_type": "stream",
          "text": [
            "Epoch 1/30\n",
            "71/71 [==============================] - 70s 895ms/step - loss: 1.6013 - accuracy: 0.2763 - val_loss: 1.4821 - val_accuracy: 0.4567\n",
            "Epoch 2/30\n",
            "71/71 [==============================] - 64s 901ms/step - loss: 1.5502 - accuracy: 0.3091 - val_loss: 1.2830 - val_accuracy: 0.5694\n",
            "Epoch 3/30\n",
            "71/71 [==============================] - 65s 911ms/step - loss: 1.4191 - accuracy: 0.4031 - val_loss: 1.2103 - val_accuracy: 0.5902\n",
            "Epoch 4/30\n",
            "71/71 [==============================] - 66s 924ms/step - loss: 1.3729 - accuracy: 0.4268 - val_loss: 1.2363 - val_accuracy: 0.5670\n",
            "Epoch 5/30\n",
            "71/71 [==============================] - 66s 931ms/step - loss: 1.3327 - accuracy: 0.4369 - val_loss: 1.2877 - val_accuracy: 0.5356\n",
            "Epoch 6/30\n",
            "71/71 [==============================] - 67s 949ms/step - loss: 1.3174 - accuracy: 0.4432 - val_loss: 1.1484 - val_accuracy: 0.5776\n",
            "Epoch 7/30\n",
            "71/71 [==============================] - 67s 944ms/step - loss: 1.2955 - accuracy: 0.4511 - val_loss: 1.1699 - val_accuracy: 0.5752\n",
            "Epoch 8/30\n",
            "71/71 [==============================] - 67s 937ms/step - loss: 1.2780 - accuracy: 0.4567 - val_loss: 1.1536 - val_accuracy: 0.5810\n",
            "Epoch 9/30\n",
            "71/71 [==============================] - 67s 940ms/step - loss: 1.2769 - accuracy: 0.4557 - val_loss: 1.1646 - val_accuracy: 0.5743\n",
            "Epoch 10/30\n",
            "71/71 [==============================] - 66s 935ms/step - loss: 1.2683 - accuracy: 0.4623 - val_loss: 1.1446 - val_accuracy: 0.5825\n",
            "Epoch 11/30\n",
            "71/71 [==============================] - 66s 936ms/step - loss: 1.2638 - accuracy: 0.4637 - val_loss: 1.1343 - val_accuracy: 0.5854\n",
            "Epoch 12/30\n",
            "71/71 [==============================] - 66s 932ms/step - loss: 1.2798 - accuracy: 0.4626 - val_loss: 1.1491 - val_accuracy: 0.5791\n",
            "Epoch 13/30\n",
            "71/71 [==============================] - 66s 936ms/step - loss: 1.2709 - accuracy: 0.4663 - val_loss: 1.1615 - val_accuracy: 0.5728\n",
            "Epoch 14/30\n",
            "71/71 [==============================] - 66s 933ms/step - loss: 1.2592 - accuracy: 0.4751 - val_loss: 1.1572 - val_accuracy: 0.5718\n",
            "Epoch 15/30\n",
            "71/71 [==============================] - 66s 932ms/step - loss: 1.2654 - accuracy: 0.4715 - val_loss: 1.1450 - val_accuracy: 0.5767\n",
            "Epoch 16/30\n",
            "71/71 [==============================] - 66s 928ms/step - loss: 1.2573 - accuracy: 0.4759 - val_loss: 1.1443 - val_accuracy: 0.5743\n",
            "Epoch 17/30\n",
            "71/71 [==============================] - 66s 931ms/step - loss: 1.2427 - accuracy: 0.4853 - val_loss: 1.1501 - val_accuracy: 0.5747\n",
            "Epoch 18/30\n",
            "71/71 [==============================] - 67s 939ms/step - loss: 1.2466 - accuracy: 0.4800 - val_loss: 1.1532 - val_accuracy: 0.5757\n",
            "Epoch 19/30\n",
            "71/71 [==============================] - 66s 935ms/step - loss: 1.2491 - accuracy: 0.4833 - val_loss: 1.1336 - val_accuracy: 0.5781\n",
            "Epoch 20/30\n",
            "71/71 [==============================] - 66s 924ms/step - loss: 1.2481 - accuracy: 0.4848 - val_loss: 1.1467 - val_accuracy: 0.5767\n",
            "Epoch 21/30\n",
            "71/71 [==============================] - 66s 933ms/step - loss: 1.2499 - accuracy: 0.4763 - val_loss: 1.1378 - val_accuracy: 0.5796\n",
            "Epoch 22/30\n",
            "71/71 [==============================] - 66s 926ms/step - loss: 1.2356 - accuracy: 0.4869 - val_loss: 1.1439 - val_accuracy: 0.5806\n",
            "Epoch 23/30\n",
            "71/71 [==============================] - 66s 926ms/step - loss: 1.2303 - accuracy: 0.4884 - val_loss: 1.1375 - val_accuracy: 0.5796\n",
            "Epoch 24/30\n",
            "71/71 [==============================] - 66s 931ms/step - loss: 1.2348 - accuracy: 0.4899 - val_loss: 1.1453 - val_accuracy: 0.5786\n",
            "Epoch 25/30\n",
            "71/71 [==============================] - 66s 924ms/step - loss: 1.2195 - accuracy: 0.4945 - val_loss: 1.1415 - val_accuracy: 0.5781\n",
            "Epoch 26/30\n",
            "71/71 [==============================] - 66s 926ms/step - loss: 1.2277 - accuracy: 0.4871 - val_loss: 1.1325 - val_accuracy: 0.5839\n",
            "Epoch 27/30\n",
            "71/71 [==============================] - 66s 930ms/step - loss: 1.2166 - accuracy: 0.4972 - val_loss: 1.1525 - val_accuracy: 0.5752\n",
            "Epoch 28/30\n",
            "71/71 [==============================] - 66s 924ms/step - loss: 1.2294 - accuracy: 0.4871 - val_loss: 1.1350 - val_accuracy: 0.5791\n",
            "Epoch 29/30\n",
            "71/71 [==============================] - 66s 928ms/step - loss: 1.2183 - accuracy: 0.4954 - val_loss: 1.1297 - val_accuracy: 0.5806\n",
            "Epoch 30/30\n",
            "71/71 [==============================] - 66s 926ms/step - loss: 1.2144 - accuracy: 0.5006 - val_loss: 1.1252 - val_accuracy: 0.5767\n"
          ],
          "name": "stdout"
        }
      ]
    },
    {
      "cell_type": "code",
      "metadata": {
        "id": "xr0c4eGAQwWX"
      },
      "source": [
        "model.save_weights(\"lstm.h5\")"
      ],
      "execution_count": 693,
      "outputs": []
    },
    {
      "cell_type": "markdown",
      "metadata": {
        "id": "8wML2bcfirV5"
      },
      "source": [
        "###Plots\n",
        "Plotting out the accuracy and loss of the model."
      ]
    },
    {
      "cell_type": "code",
      "metadata": {
        "colab": {
          "base_uri": "https://localhost:8080/",
          "height": 421
        },
        "id": "-N3T_QovirV6",
        "outputId": "39a0a7b2-ebda-40c5-d33c-bb671c6e5046"
      },
      "source": [
        "fig, axes = plt.subplots(1, figsize=(10, 6))\n",
        "\n",
        "# Plot training & validation accuracy values\n",
        "\n",
        "axes.plot(history.history['accuracy'])\n",
        "axes.plot(history.history['val_accuracy'])\n",
        "axes.set_title('Model accuracy')\n",
        "axes.set_ylabel('Accuracy')\n",
        "axes.set_xlabel('Epoch')\n",
        "axes.legend(['Train', 'Validation'], loc='upper left')"
      ],
      "execution_count": 694,
      "outputs": [
        {
          "output_type": "execute_result",
          "data": {
            "text/plain": [
              "<matplotlib.legend.Legend at 0x7f7cef251650>"
            ]
          },
          "metadata": {
            "tags": []
          },
          "execution_count": 694
        },
        {
          "output_type": "display_data",
          "data": {
            "image/png": "[encoded data removed]",
            "text/plain": [
              "<Figure size 720x432 with 1 Axes>"
            ]
          },
          "metadata": {
            "tags": [],
            "needs_background": "light"
          }
        }
      ]
    },
    {
      "cell_type": "code",
      "metadata": {
        "colab": {
          "base_uri": "https://localhost:8080/",
          "height": 404
        },
        "id": "gWXSpx22irV6",
        "outputId": "e5a4cbc1-f798-4245-e526-f8f9fb9c140a"
      },
      "source": [
        "fig, axes = plt.subplots(1, figsize=(10, 6))\n",
        "\n",
        "# Plot training & validation loss values\n",
        "\n",
        "axes.plot(history.history['loss'])\n",
        "axes.plot(history.history['val_loss'])\n",
        "axes.set_title('Model loss')\n",
        "axes.set_ylabel('Loss')\n",
        "axes.set_xlabel('Epoch')\n",
        "axes.legend(['Train', 'Validation'], loc='upper left')\n",
        "plt.show()"
      ],
      "execution_count": 695,
      "outputs": [
        {
          "output_type": "display_data",
          "data": {
            "image/png": "[encoded data removed]",
            "text/plain": [
              "<Figure size 720x432 with 1 Axes>"
            ]
          },
          "metadata": {
            "tags": [],
            "needs_background": "light"
          }
        }
      ]
    }
  ]
}